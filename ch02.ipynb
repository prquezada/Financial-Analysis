{
 "cells": [
  {
   "cell_type": "markdown",
   "id": "b6ea750d",
   "metadata": {},
   "source": [
    "### 🎲 Random Variables\n",
    "**En este capítulo abordaremos conceptos Fundamentales en Estadística**\n",
    "\n",
    "Imagina que tienes un dado de seis caras. Cuando lo lanzas, no sabes qué número va a salir, ¿cierto? Puede salir un 1, un 2, un 3, un 4, un 5 o un 6.\n",
    "\n",
    "Ahora, en estadística, una variable aleatoria (en inglés random variable) es como una cajita que guarda el valor que obtienes al lanzar el dado. Ese valor cambia cada vez que lanzas, porque depende de la suerte.\n",
    "\n",
    "Por ejemplo:\n",
    "\n",
    "- Si lanzo el dado y sale 4 → la cajita guarda 4.\n",
    "\n",
    "- Si lanzo y sale 2 → la cajita guarda 2.\n",
    "\n",
    "- Si lanzo y sale 6 → la cajita guarda 6.\n",
    "\n",
    "Ese número que guardamos es aleatorio porque no podemos predecirlo antes de lanzar el dado."
   ]
  },
  {
   "cell_type": "markdown",
   "id": "e73a1fe5",
   "metadata": {},
   "source": [
    "**Hay dos tipos de variables aleatorias:**\n",
    "\n",
    "🎲 Discreta: Solo puede tomar ciertos valores. Como en nuestro dado, que solo puede salir 1, 2, 3, 4, 5 o 6. No puede salir 2.5 o 7.\n",
    "\n",
    "📏 Continua: Puede tomar cualquier valor dentro de un rango. Por ejemplo, medir el tiempo que tarda en caer un dado al piso puede ser 1.23 segundos, 1.24 segundos, 1.231231 segundos… infinitas posibilidades."
   ]
  },
  {
   "cell_type": "code",
   "execution_count": 1,
   "id": "8b687204",
   "metadata": {},
   "outputs": [],
   "source": [
    "#importar numpy y pandas\n",
    "import numpy as np\n",
    "import pandas as pd"
   ]
  },
  {
   "cell_type": "markdown",
   "id": "b8b131f9",
   "metadata": {},
   "source": [
    "**A continuación:**\n",
    "\n",
    "🎲 Representaremos en código lanzar 2 dados y almacenarlo en una variable aleatoria *Random Variable*"
   ]
  },
  {
   "cell_type": "code",
   "execution_count": null,
   "id": "8ef79300",
   "metadata": {},
   "outputs": [
    {
     "name": "stdout",
     "output_type": "stream",
     "text": [
      "Sum of dice is 5\n"
     ]
    }
   ],
   "source": [
    "dice = pd.DataFrame([1, 2, 3, 4, 5, 6])\n",
    "sum_of_dice = dice.sample(n=2, replace=True).sum().loc[0] # roll 2 dice for multiple times\n",
    "print('Sum of dice is', sum_of_dice) # you may get different outcomes as we now mimic the result of rolling 2 dice, but the range must be limited between 2 and 12."
   ]
  },
  {
   "cell_type": "code",
   "execution_count": 21,
   "id": "48d0cee4",
   "metadata": {},
   "outputs": [
    {
     "data": {
      "text/html": [
       "<div>\n",
       "<style scoped>\n",
       "    .dataframe tbody tr th:only-of-type {\n",
       "        vertical-align: middle;\n",
       "    }\n",
       "\n",
       "    .dataframe tbody tr th {\n",
       "        vertical-align: top;\n",
       "    }\n",
       "\n",
       "    .dataframe thead th {\n",
       "        text-align: right;\n",
       "    }\n",
       "</style>\n",
       "<table border=\"1\" class=\"dataframe\">\n",
       "  <thead>\n",
       "    <tr style=\"text-align: right;\">\n",
       "      <th></th>\n",
       "      <th>0</th>\n",
       "    </tr>\n",
       "  </thead>\n",
       "  <tbody>\n",
       "    <tr>\n",
       "      <th>0</th>\n",
       "      <td>2</td>\n",
       "    </tr>\n",
       "    <tr>\n",
       "      <th>1</th>\n",
       "      <td>3</td>\n",
       "    </tr>\n",
       "    <tr>\n",
       "      <th>2</th>\n",
       "      <td>8</td>\n",
       "    </tr>\n",
       "    <tr>\n",
       "      <th>3</th>\n",
       "      <td>8</td>\n",
       "    </tr>\n",
       "    <tr>\n",
       "      <th>4</th>\n",
       "      <td>3</td>\n",
       "    </tr>\n",
       "    <tr>\n",
       "      <th>5</th>\n",
       "      <td>2</td>\n",
       "    </tr>\n",
       "    <tr>\n",
       "      <th>6</th>\n",
       "      <td>9</td>\n",
       "    </tr>\n",
       "    <tr>\n",
       "      <th>7</th>\n",
       "      <td>11</td>\n",
       "    </tr>\n",
       "    <tr>\n",
       "      <th>8</th>\n",
       "      <td>5</td>\n",
       "    </tr>\n",
       "    <tr>\n",
       "      <th>9</th>\n",
       "      <td>5</td>\n",
       "    </tr>\n",
       "    <tr>\n",
       "      <th>10</th>\n",
       "      <td>8</td>\n",
       "    </tr>\n",
       "    <tr>\n",
       "      <th>11</th>\n",
       "      <td>7</td>\n",
       "    </tr>\n",
       "    <tr>\n",
       "      <th>12</th>\n",
       "      <td>10</td>\n",
       "    </tr>\n",
       "    <tr>\n",
       "      <th>13</th>\n",
       "      <td>7</td>\n",
       "    </tr>\n",
       "    <tr>\n",
       "      <th>14</th>\n",
       "      <td>3</td>\n",
       "    </tr>\n",
       "    <tr>\n",
       "      <th>15</th>\n",
       "      <td>5</td>\n",
       "    </tr>\n",
       "    <tr>\n",
       "      <th>16</th>\n",
       "      <td>8</td>\n",
       "    </tr>\n",
       "    <tr>\n",
       "      <th>17</th>\n",
       "      <td>12</td>\n",
       "    </tr>\n",
       "    <tr>\n",
       "      <th>18</th>\n",
       "      <td>8</td>\n",
       "    </tr>\n",
       "    <tr>\n",
       "      <th>19</th>\n",
       "      <td>7</td>\n",
       "    </tr>\n",
       "  </tbody>\n",
       "</table>\n",
       "</div>"
      ],
      "text/plain": [
       "     0\n",
       "0    2\n",
       "1    3\n",
       "2    8\n",
       "3    8\n",
       "4    3\n",
       "5    2\n",
       "6    9\n",
       "7   11\n",
       "8    5\n",
       "9    5\n",
       "10   8\n",
       "11   7\n",
       "12  10\n",
       "13   7\n",
       "14   3\n",
       "15   5\n",
       "16   8\n",
       "17  12\n",
       "18   8\n",
       "19   7"
      ]
     },
     "execution_count": 21,
     "metadata": {},
     "output_type": "execute_result"
    }
   ],
   "source": [
    "trial = 50\n",
    "result = [dice.sample(n=2, replace=True).sum().loc[0] for i in range(trial)]\n",
    "pd.DataFrame(result[:20])"
   ]
  },
  {
   "cell_type": "markdown",
   "id": "dea3393a",
   "metadata": {},
   "source": [
    "**Frecuencia Relativa:**\n",
    "\n",
    "Una Variable Aleatoria *Random Variable* podría tomar valores diferentes cada vez que lancemos los dados.\n",
    "Por tal motivo es importante observar los valores de salida al lanzar 2 dados. Esto nos permitirá conocer la frecuencia en la que se repiten los resultados y cómo se comporta una variable aleatoria en función de los intentos que se realicen."
   ]
  },
  {
   "cell_type": "code",
   "execution_count": 27,
   "id": "e5097611",
   "metadata": {},
   "outputs": [
    {
     "data": {
      "text/plain": [
       "<Axes: title={'center': 'Frecuencia Relativa de la Suma de Dos Dados'}, xlabel='Suma de Dos Dados', ylabel='Frecuencia Relativa'>"
      ]
     },
     "execution_count": 27,
     "metadata": {},
     "output_type": "execute_result"
    },
    {
     "data": {
      "image/png": "[encoded data removed]",
      "text/plain": [
       "<Figure size 640x480 with 1 Axes>"
      ]
     },
     "metadata": {},
     "output_type": "display_data"
    }
   ],
   "source": [
    "trials = 100\n",
    "result = [dice.sample(n=2, replace=True).sum().loc[0] for i in range(trials)]\n",
    "freq = pd.DataFrame(result)[0].value_counts().sort_index() / trials\n",
    "freq.plot(kind='bar', title='Frecuencia Relativa de la Suma de Dos Dados', xlabel='Suma de Dos Dados', ylabel='Frecuencia Relativa')"
   ]
  },
  {
   "cell_type": "code",
   "execution_count": 26,
   "id": "a0c2ad85",
   "metadata": {},
   "outputs": [
    {
     "data": {
      "text/plain": [
       "<Axes: title={'center': 'Frecuencia Relativa de la Suma de Dos Dados'}, xlabel='Suma de Dos Dados', ylabel='Frecuencia Relativa'>"
      ]
     },
     "execution_count": 26,
     "metadata": {},
     "output_type": "execute_result"
    },
    {
     "data": {
      "image/png": "[encoded data removed]",
      "text/plain": [
       "<Figure size 640x480 with 1 Axes>"
      ]
     },
     "metadata": {},
     "output_type": "display_data"
    }
   ],
   "source": [
    "trials = 100\n",
    "result = [dice.sample(n=2, replace=True).sum().loc[0] for i in range(trials)]\n",
    "freq = pd.DataFrame(result)[0].value_counts()\n",
    "sorted_freq = freq.sort_index()\n",
    "relative_freq = sorted_freq / sorted_freq.sum()\n",
    "relative_freq.plot(kind='bar', title='Frecuencia Relativa de la Suma de Dos Dados', xlabel='Suma de Dos Dados', ylabel='Frecuencia Relativa')\n"
   ]
  },
  {
   "cell_type": "code",
   "execution_count": null,
   "id": "8db2daaa",
   "metadata": {},
   "outputs": [],
   "source": []
  },
  {
   "cell_type": "code",
   "execution_count": null,
   "id": "ec757575",
   "metadata": {},
   "outputs": [],
   "source": []
  }
 ],
 "metadata": {
  "kernelspec": {
   "display_name": "venv",
   "language": "python",
   "name": "python3"
  },
  "language_info": {
   "codemirror_mode": {
    "name": "ipython",
    "version": 3
   },
   "file_extension": ".py",
   "mimetype": "text/x-python",
   "name": "python",
   "nbconvert_exporter": "python",
   "pygments_lexer": "ipython3",
   "version": "3.12.10"
  }
 },
 "nbformat": 4,
 "nbformat_minor": 5
}
