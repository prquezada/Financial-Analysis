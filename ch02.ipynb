{
 "cells": [
  {
   "cell_type": "markdown",
   "id": "b6ea750d",
   "metadata": {},
   "source": [
    "### 🎲 Random Variables\n",
    "**En este capítulo abordaremos conceptos Fundamentales en Estadística**\n",
    "\n",
    "Imagina que tienes un dado de seis caras. Cuando lo lanzas, no sabes qué número va a salir, ¿cierto? Puede salir un 1, un 2, un 3, un 4, un 5 o un 6.\n",
    "\n",
    "Ahora, en estadística, una variable aleatoria (en inglés random variable) es como una cajita que guarda el valor que obtienes al lanzar el dado. Ese valor cambia cada vez que lanzas, porque depende de la suerte.\n",
    "\n",
    "Por ejemplo:\n",
    "\n",
    "- Si lanzo el dado y sale 4 → la cajita guarda 4.\n",
    "\n",
    "- Si lanzo y sale 2 → la cajita guarda 2.\n",
    "\n",
    "- Si lanzo y sale 6 → la cajita guarda 6.\n",
    "\n",
    "Ese número que guardamos es aleatorio porque no podemos predecirlo antes de lanzar el dado."
   ]
  },
  {
   "cell_type": "markdown",
   "id": "e73a1fe5",
   "metadata": {},
   "source": [
    "**Hay dos tipos de variables aleatorias:**\n",
    "\n",
    "🎲 Discreta: Solo puede tomar ciertos valores. Como en nuestro dado, que solo puede salir 1, 2, 3, 4, 5 o 6. No puede salir 2.5 o 7.\n",
    "\n",
    "📏 Continua: Puede tomar cualquier valor dentro de un rango. Por ejemplo, medir el tiempo que tarda en caer un dado al piso puede ser 1.23 segundos, 1.24 segundos, 1.231231 segundos… infinitas posibilidades."
   ]
  },
  {
   "cell_type": "code",
   "execution_count": 4,
   "id": "8b687204",
   "metadata": {},
   "outputs": [],
   "source": [
    "#importar numpy y pandas\n",
    "import numpy as np\n",
    "import pandas as pd"
   ]
  },
  {
   "cell_type": "markdown",
   "id": "b8b131f9",
   "metadata": {},
   "source": [
    "**A continuación:**\n",
    "\n",
    "🎲 Representaremos en código lanzar 2 dados y almacenarlo en una variable aleatoria *Random Variable*"
   ]
  },
  {
   "cell_type": "code",
   "execution_count": 5,
   "id": "8ef79300",
   "metadata": {},
   "outputs": [
    {
     "name": "stdout",
     "output_type": "stream",
     "text": [
      "Sum of dice is 6\n"
     ]
    }
   ],
   "source": [
    "dice = pd.DataFrame([1, 2, 3, 4, 5, 6])\n",
    "sum_of_dice = dice.sample(n=2, replace=True).sum().loc[0] # roll 2 dice for multiple times\n",
    "print('Sum of dice is', sum_of_dice) # you may get different outcomes as we now mimic the result of rolling 2 dice, but the range must be limited between 2 and 12."
   ]
  },
  {
   "cell_type": "markdown",
   "id": "ca9f28c5",
   "metadata": {},
   "source": [
    "### 📌 Frecuencia y Distribución\n",
    "\n",
    "- **Frecuencia:** cuántas veces ocurre un valor específico en un conjunto de datos.\n",
    "- **Distribución de frecuencia:** tabla o gráfico que muestra las frecuencias de todos los posibles valores.\n",
    "\n",
    "### 📊 Tipos:\n",
    "- **Distribución de probabilidad discreta:** asigna probabilidades a valores específicos.\n",
    "- **Distribución de probabilidad continua:** asigna probabilidades a intervalos de valores.\n"
   ]
  },
  {
   "cell_type": "code",
   "execution_count": 6,
   "id": "48d0cee4",
   "metadata": {},
   "outputs": [
    {
     "data": {
      "text/html": [
       "<div>\n",
       "<style scoped>\n",
       "    .dataframe tbody tr th:only-of-type {\n",
       "        vertical-align: middle;\n",
       "    }\n",
       "\n",
       "    .dataframe tbody tr th {\n",
       "        vertical-align: top;\n",
       "    }\n",
       "\n",
       "    .dataframe thead th {\n",
       "        text-align: right;\n",
       "    }\n",
       "</style>\n",
       "<table border=\"1\" class=\"dataframe\">\n",
       "  <thead>\n",
       "    <tr style=\"text-align: right;\">\n",
       "      <th></th>\n",
       "      <th>0</th>\n",
       "    </tr>\n",
       "  </thead>\n",
       "  <tbody>\n",
       "    <tr>\n",
       "      <th>0</th>\n",
       "      <td>9</td>\n",
       "    </tr>\n",
       "    <tr>\n",
       "      <th>1</th>\n",
       "      <td>7</td>\n",
       "    </tr>\n",
       "    <tr>\n",
       "      <th>2</th>\n",
       "      <td>4</td>\n",
       "    </tr>\n",
       "    <tr>\n",
       "      <th>3</th>\n",
       "      <td>7</td>\n",
       "    </tr>\n",
       "    <tr>\n",
       "      <th>4</th>\n",
       "      <td>7</td>\n",
       "    </tr>\n",
       "    <tr>\n",
       "      <th>5</th>\n",
       "      <td>10</td>\n",
       "    </tr>\n",
       "    <tr>\n",
       "      <th>6</th>\n",
       "      <td>11</td>\n",
       "    </tr>\n",
       "    <tr>\n",
       "      <th>7</th>\n",
       "      <td>4</td>\n",
       "    </tr>\n",
       "    <tr>\n",
       "      <th>8</th>\n",
       "      <td>10</td>\n",
       "    </tr>\n",
       "    <tr>\n",
       "      <th>9</th>\n",
       "      <td>9</td>\n",
       "    </tr>\n",
       "  </tbody>\n",
       "</table>\n",
       "</div>"
      ],
      "text/plain": [
       "    0\n",
       "0   9\n",
       "1   7\n",
       "2   4\n",
       "3   7\n",
       "4   7\n",
       "5  10\n",
       "6  11\n",
       "7   4\n",
       "8  10\n",
       "9   9"
      ]
     },
     "execution_count": 6,
     "metadata": {},
     "output_type": "execute_result"
    }
   ],
   "source": [
    "trial = 50\n",
    "result = [dice.sample(n=2, replace=True).sum().loc[0] for i in range(trial)]\n",
    "pd.DataFrame(result[:10])"
   ]
  },
  {
   "cell_type": "markdown",
   "id": "dea3393a",
   "metadata": {},
   "source": [
    "**📌 Relación:**\n",
    "\n",
    "La distribución de la Frecuencia se estabiliza proporcionalmente al incremento de *trials*"
   ]
  },
  {
   "cell_type": "code",
   "execution_count": 7,
   "id": "e5097611",
   "metadata": {},
   "outputs": [
    {
     "data": {
      "text/plain": [
       "<Axes: title={'center': 'Frecuencia Relativa de la Suma de Dos Dados'}, xlabel='Suma de Dos Dados', ylabel='Frecuencia Relativa'>"
      ]
     },
     "execution_count": 7,
     "metadata": {},
     "output_type": "execute_result"
    },
    {
     "data": {
      "image/png": "[encoded data removed]",
      "text/plain": [
       "<Figure size 640x480 with 1 Axes>"
      ]
     },
     "metadata": {},
     "output_type": "display_data"
    }
   ],
   "source": [
    "trials = 100\n",
    "result = [dice.sample(n=2, replace=True).sum().loc[0] for i in range(trials)]\n",
    "freq = pd.DataFrame(result)[0].value_counts().sort_index() / trials\n",
    "freq.plot(kind='bar', title='Frecuencia Relativa de la Suma de Dos Dados', xlabel='Suma de Dos Dados', ylabel='Frecuencia Relativa')"
   ]
  },
  {
   "cell_type": "markdown",
   "id": "7538fbd2",
   "metadata": {},
   "source": [
    "La frecuencia relativa de un valor en muchas repeticiones tiende a su probabilidad teórica."
   ]
  },
  {
   "cell_type": "code",
   "execution_count": 10,
   "id": "172dc1fc",
   "metadata": {},
   "outputs": [
    {
     "data": {
      "text/plain": [
       "<Axes: title={'center': 'Frecuencia Relativa de la Suma de Dos Dados (2000 Trials)'}, xlabel='Suma de Dos Dados', ylabel='Frecuencia Relativa'>"
      ]
     },
     "execution_count": 10,
     "metadata": {},
     "output_type": "execute_result"
    },
    {
     "data": {
      "image/png": "[encoded data removed]",
      "text/plain": [
       "<Figure size 640x480 with 1 Axes>"
      ]
     },
     "metadata": {},
     "output_type": "display_data"
    }
   ],
   "source": [
    "trial = 2000\n",
    "result = [dice.sample(n=2, replace=True).sum().loc[0] for i in range(trial)]\n",
    "freq = pd.DataFrame(result)[0].value_counts().sort_index() / trial\n",
    "freq.plot(kind='bar', title='Frecuencia Relativa de la Suma de Dos Dados (2000 Trials)', xlabel='Suma de Dos Dados', ylabel='Frecuencia Relativa')"
   ]
  },
  {
   "cell_type": "markdown",
   "id": "882cc610",
   "metadata": {},
   "source": [
    "### Notas\n",
    "1. La media de una variable aleatoria *discreta* también se llama valor esperado.\n",
    "2. Puede usar \"Media\" y \"Varianza\" para describir la distribución de probabilidad (que se aproxima a una distribución normal), además de usar una tabla de distribución.\n",
    "\n",
    "![alt text](mean.jpg) ![alt text](var.jpg)\n",
    "\n",
    "**Donde**<br>\n",
    "xi: es el resultado único en la suma de los dos dados<br>\n",
    "pi: es la probabilidad de obtener ese resultado único"
   ]
  },
  {
   "cell_type": "code",
   "execution_count": 20,
   "id": "0b0d50e0",
   "metadata": {},
   "outputs": [
    {
     "data": {
      "text/html": [
       "<div>\n",
       "<style scoped>\n",
       "    .dataframe tbody tr th:only-of-type {\n",
       "        vertical-align: middle;\n",
       "    }\n",
       "\n",
       "    .dataframe tbody tr th {\n",
       "        vertical-align: top;\n",
       "    }\n",
       "\n",
       "    .dataframe thead th {\n",
       "        text-align: right;\n",
       "    }\n",
       "</style>\n",
       "<table border=\"1\" class=\"dataframe\">\n",
       "  <thead>\n",
       "    <tr style=\"text-align: right;\">\n",
       "      <th></th>\n",
       "      <th>Combinaciones</th>\n",
       "      <th>Probabilidad</th>\n",
       "    </tr>\n",
       "  </thead>\n",
       "  <tbody>\n",
       "    <tr>\n",
       "      <th>2</th>\n",
       "      <td>1</td>\n",
       "      <td>0.027778</td>\n",
       "    </tr>\n",
       "    <tr>\n",
       "      <th>3</th>\n",
       "      <td>2</td>\n",
       "      <td>0.055556</td>\n",
       "    </tr>\n",
       "    <tr>\n",
       "      <th>4</th>\n",
       "      <td>3</td>\n",
       "      <td>0.083333</td>\n",
       "    </tr>\n",
       "    <tr>\n",
       "      <th>5</th>\n",
       "      <td>4</td>\n",
       "      <td>0.111111</td>\n",
       "    </tr>\n",
       "    <tr>\n",
       "      <th>6</th>\n",
       "      <td>5</td>\n",
       "      <td>0.138889</td>\n",
       "    </tr>\n",
       "    <tr>\n",
       "      <th>7</th>\n",
       "      <td>6</td>\n",
       "      <td>0.166667</td>\n",
       "    </tr>\n",
       "    <tr>\n",
       "      <th>8</th>\n",
       "      <td>5</td>\n",
       "      <td>0.138889</td>\n",
       "    </tr>\n",
       "    <tr>\n",
       "      <th>9</th>\n",
       "      <td>4</td>\n",
       "      <td>0.111111</td>\n",
       "    </tr>\n",
       "    <tr>\n",
       "      <th>10</th>\n",
       "      <td>3</td>\n",
       "      <td>0.083333</td>\n",
       "    </tr>\n",
       "    <tr>\n",
       "      <th>11</th>\n",
       "      <td>2</td>\n",
       "      <td>0.055556</td>\n",
       "    </tr>\n",
       "    <tr>\n",
       "      <th>12</th>\n",
       "      <td>1</td>\n",
       "      <td>0.027778</td>\n",
       "    </tr>\n",
       "  </tbody>\n",
       "</table>\n",
       "</div>"
      ],
      "text/plain": [
       "    Combinaciones  Probabilidad\n",
       "2               1      0.027778\n",
       "3               2      0.055556\n",
       "4               3      0.083333\n",
       "5               4      0.111111\n",
       "6               5      0.138889\n",
       "7               6      0.166667\n",
       "8               5      0.138889\n",
       "9               4      0.111111\n",
       "10              3      0.083333\n",
       "11              2      0.055556\n",
       "12              1      0.027778"
      ]
     },
     "execution_count": 20,
     "metadata": {},
     "output_type": "execute_result"
    }
   ],
   "source": [
    "xdistribution = pd.DataFrame(index=range(2, 13))\n",
    "xdistribution['Combinaciones'] = [1,2,3,4,5,6,5,4,3,2,1] # Combinaciones de la suma de dos dados\n",
    "xdistribution['Probabilidad'] = xdistribution['Combinaciones'] / 36 # Probabilidad de la suma de dos dados\n",
    "xdistribution\n"
   ]
  },
  {
   "cell_type": "code",
   "execution_count": 21,
   "id": "ddacfc0f",
   "metadata": {},
   "outputs": [
    {
     "name": "stdout",
     "output_type": "stream",
     "text": [
      "Media: 6.999999999999998\n",
      "Varianza: 5.833333333333333\n"
     ]
    }
   ],
   "source": [
    "media = (xdistribution.index * xdistribution['Probabilidad']).sum() # Media de la suma de dos dados\n",
    "varianza = ((xdistribution.index - media) ** 2 * xdistribution['Probabilidad']).sum() # Varianza de la suma de dos dados\n",
    "print('Media:', media)\n",
    "print('Varianza:', varianza)"
   ]
  },
  {
   "cell_type": "code",
   "execution_count": null,
   "id": "43bb52f6",
   "metadata": {},
   "outputs": [],
   "source": []
  }
 ],
 "metadata": {
  "kernelspec": {
   "display_name": "venv",
   "language": "python",
   "name": "python3"
  },
  "language_info": {
   "codemirror_mode": {
    "name": "ipython",
    "version": 3
   },
   "file_extension": ".py",
   "mimetype": "text/x-python",
   "name": "python",
   "nbconvert_exporter": "python",
   "pygments_lexer": "ipython3",
   "version": "3.12.10"
  }
 },
 "nbformat": 4,
 "nbformat_minor": 5
}
